{
  "nbformat": 4,
  "nbformat_minor": 0,
  "metadata": {
    "colab": {
      "name": "Tugas Pekan 7 - NLP - Dependency Parser.ipynb",
      "provenance": [],
      "collapsed_sections": []
    },
    "kernelspec": {
      "name": "python3",
      "display_name": "Python 3"
    }
  },
  "cells": [
    {
      "cell_type": "markdown",
      "metadata": {
        "id": "CUuGrdnUH-oO"
      },
      "source": [
        "# **Dependency Parser**\n",
        "\n",
        "\n",
        "---\n",
        "\n",
        "\n",
        "\n",
        "Clarisa Hasya Y - 1301174256"
      ]
    },
    {
      "cell_type": "code",
      "metadata": {
        "id": "hy0fvprVj0jZ",
        "outputId": "3b190427-b433-493f-d804-53cc06d78163",
        "colab": {
          "base_uri": "https://localhost:8080/"
        }
      },
      "source": [
        "!pip install nltk"
      ],
      "execution_count": 9,
      "outputs": [
        {
          "output_type": "stream",
          "text": [
            "Requirement already satisfied: nltk in /usr/local/lib/python3.6/dist-packages (3.2.5)\n",
            "Requirement already satisfied: six in /usr/local/lib/python3.6/dist-packages (from nltk) (1.15.0)\n"
          ],
          "name": "stdout"
        }
      ]
    },
    {
      "cell_type": "code",
      "metadata": {
        "id": "rWhPnw9moYpg"
      },
      "source": [
        "import nltk"
      ],
      "execution_count": 10,
      "outputs": []
    },
    {
      "cell_type": "markdown",
      "metadata": {
        "id": "9g1vu83h1mhh"
      },
      "source": [
        "# **Bagian I**"
      ]
    },
    {
      "cell_type": "markdown",
      "metadata": {
        "id": "bL5X4j9TId2O"
      },
      "source": [
        "Definisi *Dependency Grammar*"
      ]
    },
    {
      "cell_type": "code",
      "metadata": {
        "id": "gruw4bSmiqY_"
      },
      "source": [
        "dep_grammar_1 = nltk.DependencyGrammar.fromstring(\"\"\"\n",
        "    'shot' -> 'I' | 'elephant' | 'in'\n",
        "    'elephant' -> 'an' | 'in'\n",
        "    'in' -> 'pajamas'\n",
        "    'pajamas' -> 'my'\n",
        "    \"\"\")"
      ],
      "execution_count": 11,
      "outputs": []
    },
    {
      "cell_type": "code",
      "metadata": {
        "id": "pz33dwwWoeLG",
        "outputId": "cf9bae2f-d433-4401-fef4-2eae43946a8a",
        "colab": {
          "base_uri": "https://localhost:8080/"
        }
      },
      "source": [
        "print(dep_grammar_1)"
      ],
      "execution_count": 12,
      "outputs": [
        {
          "output_type": "stream",
          "text": [
            "Dependency grammar with 7 productions\n",
            "  'shot' -> 'I'\n",
            "  'shot' -> 'elephant'\n",
            "  'shot' -> 'in'\n",
            "  'elephant' -> 'an'\n",
            "  'elephant' -> 'in'\n",
            "  'in' -> 'pajamas'\n",
            "  'pajamas' -> 'my'\n"
          ],
          "name": "stdout"
        }
      ]
    },
    {
      "cell_type": "markdown",
      "metadata": {
        "id": "opcdZC96IsIY"
      },
      "source": [
        "Parser Dependency Projective"
      ]
    },
    {
      "cell_type": "code",
      "metadata": {
        "id": "QtsumC5_o5zN",
        "outputId": "8e210090-6833-42a7-b53e-2a4239d4653d",
        "colab": {
          "base_uri": "https://localhost:8080/"
        }
      },
      "source": [
        "pdp = nltk.ProjectiveDependencyParser(dep_grammar_1)\n",
        "sent = 'I shot an elephant in my pajamas'.split()\n",
        "trees = pdp.parse(sent)\n",
        "\n",
        "for tree in trees:\n",
        "    print(tree)"
      ],
      "execution_count": 13,
      "outputs": [
        {
          "output_type": "stream",
          "text": [
            "(shot I (elephant an (in (pajamas my))))\n",
            "(shot I (elephant an) (in (pajamas my)))\n"
          ],
          "name": "stdout"
        }
      ]
    },
    {
      "cell_type": "markdown",
      "metadata": {
        "id": "U_kM_8DbI4nJ"
      },
      "source": [
        "Definisi *Dependency Grammar*"
      ]
    },
    {
      "cell_type": "code",
      "metadata": {
        "id": "Njq54auwGXSn"
      },
      "source": [
        "dep_grammar_2 = nltk.DependencyGrammar.fromstring(\"\"\"\n",
        "    'taught' -> 'play' | 'man'\n",
        "    'man' -> 'the'\n",
        "    'play' -> 'golf' | 'dog' | 'to'\n",
        "    'dog' -> 'his'\n",
        "    \"\"\")"
      ],
      "execution_count": 14,
      "outputs": []
    },
    {
      "cell_type": "code",
      "metadata": {
        "id": "JqiWpPjCGxdg",
        "outputId": "40ab2b87-d685-44c0-d18d-a6e501543798",
        "colab": {
          "base_uri": "https://localhost:8080/"
        }
      },
      "source": [
        "print(dep_grammar_2)"
      ],
      "execution_count": 15,
      "outputs": [
        {
          "output_type": "stream",
          "text": [
            "Dependency grammar with 7 productions\n",
            "  'taught' -> 'play'\n",
            "  'taught' -> 'man'\n",
            "  'man' -> 'the'\n",
            "  'play' -> 'golf'\n",
            "  'play' -> 'dog'\n",
            "  'play' -> 'to'\n",
            "  'dog' -> 'his'\n"
          ],
          "name": "stdout"
        }
      ]
    },
    {
      "cell_type": "markdown",
      "metadata": {
        "id": "7DxXFXutJE1R"
      },
      "source": [
        "Parser Non-Projective"
      ]
    },
    {
      "cell_type": "code",
      "metadata": {
        "id": "3WfBGOvOHCJM",
        "outputId": "d1b14e30-e894-40f6-d606-0f461d8a3cbf",
        "colab": {
          "base_uri": "https://localhost:8080/"
        }
      },
      "source": [
        "npdp = nltk.NonprojectiveDependencyParser(dep_grammar_2)\n",
        "sent = 'the man taught his dog to play golf'.split()\n",
        "trees = npdp.parse(sent)\n",
        "\n",
        "for tree in trees:\n",
        "    print(tree)"
      ],
      "execution_count": 16,
      "outputs": [
        {
          "output_type": "stream",
          "text": [
            "defaultdict(<function DependencyGraph.__init__.<locals>.<lambda> at 0x7fc887316488>,\n",
            "            {0: {'address': 0,\n",
            "                 'ctag': 'TOP',\n",
            "                 'deps': defaultdict(<class 'list'>, {'ROOT': [3]}),\n",
            "                 'feats': None,\n",
            "                 'head': None,\n",
            "                 'lemma': None,\n",
            "                 'rel': None,\n",
            "                 'tag': 'TOP',\n",
            "                 'word': None},\n",
            "             1: {'address': 1,\n",
            "                 'ctag': None,\n",
            "                 'deps': defaultdict(<class 'list'>, {}),\n",
            "                 'feats': None,\n",
            "                 'head': None,\n",
            "                 'lemma': None,\n",
            "                 'rel': None,\n",
            "                 'tag': None,\n",
            "                 'word': 'the'},\n",
            "             2: {'address': 2,\n",
            "                 'ctag': None,\n",
            "                 'deps': defaultdict(<class 'list'>, {'': [1]}),\n",
            "                 'feats': None,\n",
            "                 'head': None,\n",
            "                 'lemma': None,\n",
            "                 'rel': None,\n",
            "                 'tag': None,\n",
            "                 'word': 'man'},\n",
            "             3: {'address': 3,\n",
            "                 'ctag': None,\n",
            "                 'deps': defaultdict(<class 'list'>, {'': [2, 7]}),\n",
            "                 'feats': None,\n",
            "                 'head': None,\n",
            "                 'lemma': None,\n",
            "                 'rel': None,\n",
            "                 'tag': None,\n",
            "                 'word': 'taught'},\n",
            "             4: {'address': 4,\n",
            "                 'ctag': None,\n",
            "                 'deps': defaultdict(<class 'list'>, {}),\n",
            "                 'feats': None,\n",
            "                 'head': None,\n",
            "                 'lemma': None,\n",
            "                 'rel': None,\n",
            "                 'tag': None,\n",
            "                 'word': 'his'},\n",
            "             5: {'address': 5,\n",
            "                 'ctag': None,\n",
            "                 'deps': defaultdict(<class 'list'>, {'': [4]}),\n",
            "                 'feats': None,\n",
            "                 'head': None,\n",
            "                 'lemma': None,\n",
            "                 'rel': None,\n",
            "                 'tag': None,\n",
            "                 'word': 'dog'},\n",
            "             6: {'address': 6,\n",
            "                 'ctag': None,\n",
            "                 'deps': defaultdict(<class 'list'>, {}),\n",
            "                 'feats': None,\n",
            "                 'head': None,\n",
            "                 'lemma': None,\n",
            "                 'rel': None,\n",
            "                 'tag': None,\n",
            "                 'word': 'to'},\n",
            "             7: {'address': 7,\n",
            "                 'ctag': None,\n",
            "                 'deps': defaultdict(<class 'list'>, {'': [5, 6, 8]}),\n",
            "                 'feats': None,\n",
            "                 'head': None,\n",
            "                 'lemma': None,\n",
            "                 'rel': None,\n",
            "                 'tag': None,\n",
            "                 'word': 'play'},\n",
            "             8: {'address': 8,\n",
            "                 'ctag': None,\n",
            "                 'deps': defaultdict(<class 'list'>, {}),\n",
            "                 'feats': None,\n",
            "                 'head': None,\n",
            "                 'lemma': None,\n",
            "                 'rel': None,\n",
            "                 'tag': None,\n",
            "                 'word': 'golf'}})\n"
          ],
          "name": "stdout"
        }
      ]
    },
    {
      "cell_type": "markdown",
      "metadata": {
        "id": "A5d8G5yA3-0s"
      },
      "source": [
        "# **Bagian II**"
      ]
    },
    {
      "cell_type": "markdown",
      "metadata": {
        "id": "bLLbn4XY4CKa"
      },
      "source": [
        "Definisi *Dependency Grammar*"
      ]
    },
    {
      "cell_type": "code",
      "metadata": {
        "id": "WHIOhV0l4CKc"
      },
      "source": [
        "dep_grammar_3 = nltk.DependencyGrammar.fromstring(\"\"\"\n",
        "    'mengelus' -> 'Saya' | 'kucing' | 'di'\n",
        "    'kucing' -> 'seekor'\n",
        "    'di' -> 'taman'\n",
        "    \"\"\")"
      ],
      "execution_count": 17,
      "outputs": []
    },
    {
      "cell_type": "code",
      "metadata": {
        "id": "8bMtte6C4CKh",
        "outputId": "d3604b61-89e1-4204-bb11-56cc46d58a83",
        "colab": {
          "base_uri": "https://localhost:8080/"
        }
      },
      "source": [
        "print(dep_grammar_3)"
      ],
      "execution_count": 18,
      "outputs": [
        {
          "output_type": "stream",
          "text": [
            "Dependency grammar with 5 productions\n",
            "  'mengelus' -> 'Saya'\n",
            "  'mengelus' -> 'kucing'\n",
            "  'mengelus' -> 'di'\n",
            "  'kucing' -> 'seekor'\n",
            "  'di' -> 'taman'\n"
          ],
          "name": "stdout"
        }
      ]
    },
    {
      "cell_type": "markdown",
      "metadata": {
        "id": "VJ2FvDV_4CKq"
      },
      "source": [
        "Parser Dependency Projective"
      ]
    },
    {
      "cell_type": "code",
      "metadata": {
        "id": "OiCEyORM4CKr",
        "outputId": "e707b28d-c4f8-4431-c6cc-d3a25c6358b2",
        "colab": {
          "base_uri": "https://localhost:8080/"
        }
      },
      "source": [
        "pdp = nltk.ProjectiveDependencyParser(dep_grammar_3)\n",
        "sent = 'Saya mengelus seekor kucing di taman'.split()\n",
        "trees = pdp.parse(sent)\n",
        "\n",
        "for tree in trees:\n",
        "    print(tree)"
      ],
      "execution_count": 19,
      "outputs": [
        {
          "output_type": "stream",
          "text": [
            "(mengelus Saya (kucing seekor) (di taman))\n"
          ],
          "name": "stdout"
        }
      ]
    },
    {
      "cell_type": "markdown",
      "metadata": {
        "id": "Cck70YrS4CKv"
      },
      "source": [
        "Definisi *Dependency Grammar*"
      ]
    },
    {
      "cell_type": "code",
      "metadata": {
        "id": "ClMX5Lws4CKy"
      },
      "source": [
        "dep_grammar_4 = nltk.DependencyGrammar.fromstring(\"\"\"\n",
        "    'belanja' -> 'sayur' | 'Maya' | 'kelinci' \n",
        "    'Maya' -> 'Kakak'\n",
        "    'kelinci' -> 'makanan' | 'untuk'    \n",
        "    \"\"\")"
      ],
      "execution_count": 20,
      "outputs": []
    },
    {
      "cell_type": "code",
      "metadata": {
        "id": "wdHt3vzD4CK3",
        "outputId": "e3ac4587-885e-4710-fba5-8c51934415d3",
        "colab": {
          "base_uri": "https://localhost:8080/"
        }
      },
      "source": [
        "print(dep_grammar_4)"
      ],
      "execution_count": 21,
      "outputs": [
        {
          "output_type": "stream",
          "text": [
            "Dependency grammar with 6 productions\n",
            "  'belanja' -> 'sayur'\n",
            "  'belanja' -> 'Maya'\n",
            "  'belanja' -> 'kelinci'\n",
            "  'Maya' -> 'Kakak'\n",
            "  'kelinci' -> 'makanan'\n",
            "  'kelinci' -> 'untuk'\n"
          ],
          "name": "stdout"
        }
      ]
    },
    {
      "cell_type": "markdown",
      "metadata": {
        "id": "Bfiwyaen4CK5"
      },
      "source": [
        "Parser Non-Projective"
      ]
    },
    {
      "cell_type": "code",
      "metadata": {
        "id": "Au4mLP584CK6",
        "outputId": "9ae52f2b-de08-44d2-bf02-3cf5cc7d7c62",
        "colab": {
          "base_uri": "https://localhost:8080/"
        }
      },
      "source": [
        "npdp = nltk.NonprojectiveDependencyParser(dep_grammar_4)\n",
        "sent = 'Kakak Maya belanja sayur untuk makanan kelinci'.split()\n",
        "trees = npdp.parse(sent)\n",
        "\n",
        "for tree in trees:\n",
        "    print(tree)"
      ],
      "execution_count": 22,
      "outputs": [
        {
          "output_type": "stream",
          "text": [
            "defaultdict(<function DependencyGraph.__init__.<locals>.<lambda> at 0x7fc875f1e048>,\n",
            "            {0: {'address': 0,\n",
            "                 'ctag': 'TOP',\n",
            "                 'deps': defaultdict(<class 'list'>, {'ROOT': [3]}),\n",
            "                 'feats': None,\n",
            "                 'head': None,\n",
            "                 'lemma': None,\n",
            "                 'rel': None,\n",
            "                 'tag': 'TOP',\n",
            "                 'word': None},\n",
            "             1: {'address': 1,\n",
            "                 'ctag': None,\n",
            "                 'deps': defaultdict(<class 'list'>, {}),\n",
            "                 'feats': None,\n",
            "                 'head': None,\n",
            "                 'lemma': None,\n",
            "                 'rel': None,\n",
            "                 'tag': None,\n",
            "                 'word': 'Kakak'},\n",
            "             2: {'address': 2,\n",
            "                 'ctag': None,\n",
            "                 'deps': defaultdict(<class 'list'>, {'': [1]}),\n",
            "                 'feats': None,\n",
            "                 'head': None,\n",
            "                 'lemma': None,\n",
            "                 'rel': None,\n",
            "                 'tag': None,\n",
            "                 'word': 'Maya'},\n",
            "             3: {'address': 3,\n",
            "                 'ctag': None,\n",
            "                 'deps': defaultdict(<class 'list'>, {'': [2, 4, 7]}),\n",
            "                 'feats': None,\n",
            "                 'head': None,\n",
            "                 'lemma': None,\n",
            "                 'rel': None,\n",
            "                 'tag': None,\n",
            "                 'word': 'belanja'},\n",
            "             4: {'address': 4,\n",
            "                 'ctag': None,\n",
            "                 'deps': defaultdict(<class 'list'>, {}),\n",
            "                 'feats': None,\n",
            "                 'head': None,\n",
            "                 'lemma': None,\n",
            "                 'rel': None,\n",
            "                 'tag': None,\n",
            "                 'word': 'sayur'},\n",
            "             5: {'address': 5,\n",
            "                 'ctag': None,\n",
            "                 'deps': defaultdict(<class 'list'>, {}),\n",
            "                 'feats': None,\n",
            "                 'head': None,\n",
            "                 'lemma': None,\n",
            "                 'rel': None,\n",
            "                 'tag': None,\n",
            "                 'word': 'untuk'},\n",
            "             6: {'address': 6,\n",
            "                 'ctag': None,\n",
            "                 'deps': defaultdict(<class 'list'>, {}),\n",
            "                 'feats': None,\n",
            "                 'head': None,\n",
            "                 'lemma': None,\n",
            "                 'rel': None,\n",
            "                 'tag': None,\n",
            "                 'word': 'makanan'},\n",
            "             7: {'address': 7,\n",
            "                 'ctag': None,\n",
            "                 'deps': defaultdict(<class 'list'>, {'': [5, 6]}),\n",
            "                 'feats': None,\n",
            "                 'head': None,\n",
            "                 'lemma': None,\n",
            "                 'rel': None,\n",
            "                 'tag': None,\n",
            "                 'word': 'kelinci'}})\n"
          ],
          "name": "stdout"
        }
      ]
    }
  ]
}